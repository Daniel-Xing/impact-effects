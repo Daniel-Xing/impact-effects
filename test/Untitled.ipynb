{
 "cells": [
  {
   "cell_type": "code",
   "execution_count": 14,
   "id": "3d161e1b-f553-4e00-bf00-bb78abf43c5b",
   "metadata": {},
   "outputs": [],
   "source": [
    "import requests\n",
    "import json\n",
    "import time"
   ]
  },
  {
   "cell_type": "code",
   "execution_count": 42,
   "id": "350705f2-3cfa-44c2-8981-6a2663b7f5c2",
   "metadata": {},
   "outputs": [
    {
     "name": "stdout",
     "output_type": "stream",
     "text": [
      "154.3393771648407\n"
     ]
    }
   ],
   "source": [
    "start = time.time()\n",
    "\n",
    "for i in range(1000):\n",
    "    r = requests.get(\"http://121.36.81.191/cgi-bin/crater.cgi?dist=111&distanceUnits=1&diam=111&diameterUnits=1&pdens=111000&pdens_select=0&vel=111&velocityUnits=1&theta=45&tdens=1000&wdepth=111&wdepthUnits=1\")\n",
    "\n",
    "end = time.time()\n",
    "\n",
    "print(end - start)"
   ]
  },
  {
   "cell_type": "code",
   "execution_count": 43,
   "id": "28b90a4d-da94-4463-8dfa-7541da3f0ac4",
   "metadata": {},
   "outputs": [
    {
     "ename": "SyntaxError",
     "evalue": "invalid syntax (<ipython-input-43-b7f56342388c>, line 13)",
     "output_type": "error",
     "traceback": [
      "\u001b[0;36m  File \u001b[0;32m\"<ipython-input-43-b7f56342388c>\"\u001b[0;36m, line \u001b[0;32m13\u001b[0m\n\u001b[0;31m    for i in range(10)0):\u001b[0m\n\u001b[0m                      ^\u001b[0m\n\u001b[0;31mSyntaxError\u001b[0m\u001b[0;31m:\u001b[0m invalid syntax\n"
     ]
    }
   ],
   "source": [
    "start = time.time()\n",
    "request_map = {\n",
    "    \"impactor_density\": 111,\n",
    "    \"impactor_diameter\": 111,\n",
    "    \"impactor_velocity\": 111,\n",
    "    \"impactor_theta\": 45,\n",
    "    \"target_density\": 1000,\n",
    "    \"target_depth\": 111,\n",
    "    \"target_distance\": 111,\n",
    "}\n",
    "\n",
    "string = json.dumps(request_map)\n",
    "for i in range(1000):\n",
    "    r = requests.post(\"http://121.36.81.191:50052/simulator\", data=string)\n",
    "\n",
    "end = time.time()\n",
    "\n",
    "print(end - start)"
   ]
  },
  {
   "cell_type": "code",
   "execution_count": 45,
   "id": "c5fb51cb-856c-4fd1-b87f-f4660f767f5d",
   "metadata": {},
   "outputs": [
    {
     "name": "stdout",
     "output_type": "stream",
     "text": [
      "106.47896814346313\n"
     ]
    }
   ],
   "source": [
    "start = time.time()\n",
    "request_map = {\n",
    "    \"impactor_density\": 111,\n",
    "    \"impactor_diameter\": 111,\n",
    "    \"impactor_velocity\": 111,\n",
    "    \"impactor_theta\": 45,\n",
    "    \"target_density\": 1000,\n",
    "    \"target_depth\": 111,\n",
    "    \"target_distance\": 111,\n",
    "}\n",
    "\n",
    "string = json.dumps(request_map)\n",
    "for i in range(1000):\n",
    "    r = requests.post(\"http://121.36.81.191:50052/simulatorWithRedis\", data=string)\n",
    "\n",
    "end = time.time()\n",
    "\n",
    "print(end - start)"
   ]
  },
  {
   "cell_type": "code",
   "execution_count": null,
   "id": "fcc0168e-8b23-4a0a-8f35-24c6e88b4f99",
   "metadata": {},
   "outputs": [],
   "source": []
  }
 ],
 "metadata": {
  "kernelspec": {
   "display_name": "Python 3",
   "language": "python",
   "name": "python3"
  },
  "language_info": {
   "codemirror_mode": {
    "name": "ipython",
    "version": 3
   },
   "file_extension": ".py",
   "mimetype": "text/x-python",
   "name": "python",
   "nbconvert_exporter": "python",
   "pygments_lexer": "ipython3",
   "version": "3.8.8"
  }
 },
 "nbformat": 4,
 "nbformat_minor": 5
}
